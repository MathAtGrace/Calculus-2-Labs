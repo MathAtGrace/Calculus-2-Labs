{
 "cells": [
  {
   "cell_type": "code",
   "execution_count": 2,
   "metadata": {},
   "outputs": [],
   "source": [
    "f(x) = sqrt(2*x)\n",
    "a = 0\n",
    "b = 3\n",
    "n = 6\n",
    "Dx = (b-a)/n #The width of each rectangle"
   ]
  },
  {
   "cell_type": "markdown",
   "metadata": {},
   "source": [
    "### Left sum Approximation"
   ]
  },
  {
   "cell_type": "code",
   "execution_count": 7,
   "metadata": {},
   "outputs": [
    {
     "data": {
      "text/html": [
       "<html><script type=\"math/tex; mode=display\">\\newcommand{\\Bold}[1]{\\mathbf{#1}}\\left[0, \\frac{1}{2}, 1, \\frac{3}{2}, 2, \\frac{5}{2}\\right]</script></html>"
      ],
      "text/plain": [
       "[0, 1/2, 1, 3/2, 2, 5/2]"
      ]
     },
     "metadata": {},
     "output_type": "display_data"
    },
    {
     "data": {
      "text/html": [
       "<html><script type=\"math/tex; mode=display\">\\newcommand{\\Bold}[1]{\\mathbf{#1}}\\left[0, \\frac{1}{2} \\, \\sqrt{2} \\sqrt{\\frac{1}{2}}, \\frac{1}{2} \\, \\sqrt{2}, \\frac{1}{2} \\, \\sqrt{2} \\sqrt{\\frac{3}{2}}, 1, \\frac{1}{2} \\, \\sqrt{\\frac{5}{2}} \\sqrt{2}\\right]</script></html>"
      ],
      "text/plain": [
       "[0,\n",
       " 1/2*sqrt(2)*sqrt(1/2),\n",
       " 1/2*sqrt(2),\n",
       " 1/2*sqrt(2)*sqrt(3/2),\n",
       " 1,\n",
       " 1/2*sqrt(5/2)*sqrt(2)]"
      ]
     },
     "metadata": {},
     "output_type": "display_data"
    },
    {
     "data": {
      "text/html": [
       "<html><script type=\"math/tex; mode=display\">\\newcommand{\\Bold}[1]{\\mathbf{#1}}\\frac{1}{2} \\, \\sqrt{5} + \\frac{1}{2} \\, \\sqrt{3} + \\frac{1}{2} \\, \\sqrt{2} + \\frac{3}{2}</script></html>"
      ],
      "text/plain": [
       "1/2*sqrt(5) + 1/2*sqrt(3) + 1/2*sqrt(2) + 3/2"
      ]
     },
     "metadata": {},
     "output_type": "display_data"
    },
    {
     "data": {
      "text/html": [
       "<html><script type=\"math/tex; mode=display\">\\newcommand{\\Bold}[1]{\\mathbf{#1}}4.19116617372088</script></html>"
      ],
      "text/plain": [
       "4.19116617372088"
      ]
     },
     "metadata": {},
     "output_type": "display_data"
    }
   ],
   "source": [
    "xl = [a + Dx*i for i in range(n)]\n",
    "show(xl)\n",
    "fxl = [f(xl[i])*Dx for i in range(n)]\n",
    "show(fxl)\n",
    "L = sum([f(xl[i])*Dx for i in range(n)])\n",
    "show(L.simplify())\n",
    "show(L.n())\n"
   ]
  },
  {
   "cell_type": "markdown",
   "metadata": {},
   "source": [
    "### Right Sum Approximation"
   ]
  },
  {
   "cell_type": "code",
   "execution_count": 8,
   "metadata": {},
   "outputs": [
    {
     "data": {
      "text/html": [
       "<html><script type=\"math/tex; mode=display\">\\newcommand{\\Bold}[1]{\\mathbf{#1}}\\left[\\frac{1}{2}, 1, \\frac{3}{2}, 2, \\frac{5}{2}, 3\\right]</script></html>"
      ],
      "text/plain": [
       "[1/2, 1, 3/2, 2, 5/2, 3]"
      ]
     },
     "metadata": {},
     "output_type": "display_data"
    },
    {
     "data": {
      "text/html": [
       "<html><script type=\"math/tex; mode=display\">\\newcommand{\\Bold}[1]{\\mathbf{#1}}\\left[\\frac{1}{2} \\, \\sqrt{2} \\sqrt{\\frac{1}{2}}, \\frac{1}{2} \\, \\sqrt{2}, \\frac{1}{2} \\, \\sqrt{2} \\sqrt{\\frac{3}{2}}, 1, \\frac{1}{2} \\, \\sqrt{\\frac{5}{2}} \\sqrt{2}, \\frac{1}{2} \\, \\sqrt{3} \\sqrt{2}\\right]</script></html>"
      ],
      "text/plain": [
       "[1/2*sqrt(2)*sqrt(1/2),\n",
       " 1/2*sqrt(2),\n",
       " 1/2*sqrt(2)*sqrt(3/2),\n",
       " 1,\n",
       " 1/2*sqrt(5/2)*sqrt(2),\n",
       " 1/2*sqrt(3)*sqrt(2)]"
      ]
     },
     "metadata": {},
     "output_type": "display_data"
    },
    {
     "data": {
      "text/html": [
       "<html><script type=\"math/tex; mode=display\">\\newcommand{\\Bold}[1]{\\mathbf{#1}}\\frac{1}{2} \\, \\sqrt{3} \\sqrt{2} + \\frac{1}{2} \\, \\sqrt{5} + \\frac{1}{2} \\, \\sqrt{3} + \\frac{1}{2} \\, \\sqrt{2} + \\frac{3}{2}</script></html>"
      ],
      "text/plain": [
       "1/2*sqrt(3)*sqrt(2) + 1/2*sqrt(5) + 1/2*sqrt(3) + 1/2*sqrt(2) + 3/2"
      ]
     },
     "metadata": {},
     "output_type": "display_data"
    },
    {
     "data": {
      "text/html": [
       "<html><script type=\"math/tex; mode=display\">\\newcommand{\\Bold}[1]{\\mathbf{#1}}5.41591104511247</script></html>"
      ],
      "text/plain": [
       "5.41591104511247"
      ]
     },
     "metadata": {},
     "output_type": "display_data"
    }
   ],
   "source": [
    "xr = [a + Dx*i for i in range(1,n+1)]\n",
    "show(xr)\n",
    "fxr = [f(xr[i])*Dx for i in range(n)]\n",
    "show(fxr)\n",
    "R = sum([f(xr[i])*Dx for i in range(n)])\n",
    "show(R.simplify())\n",
    "show(R.n())"
   ]
  },
  {
   "cell_type": "code",
   "execution_count": null,
   "metadata": {},
   "outputs": [],
   "source": []
  }
 ],
 "metadata": {
  "kernelspec": {
   "display_name": "SageMath 9.0",
   "language": "sage",
   "name": "sagemath"
  },
  "language_info": {
   "codemirror_mode": {
    "name": "ipython",
    "version": 3
   },
   "file_extension": ".py",
   "mimetype": "text/x-python",
   "name": "python",
   "nbconvert_exporter": "python",
   "pygments_lexer": "ipython3",
   "version": "3.7.3"
  }
 },
 "nbformat": 4,
 "nbformat_minor": 2
}
