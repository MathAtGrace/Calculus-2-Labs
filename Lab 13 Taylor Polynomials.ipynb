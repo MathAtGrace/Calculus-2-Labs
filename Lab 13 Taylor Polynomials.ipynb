{
 "cells": [
  {
   "cell_type": "markdown",
   "metadata": {},
   "source": [
    "# Lab 13 Taylor Polynomials"
   ]
  },
  {
   "cell_type": "markdown",
   "metadata": {},
   "source": [
    "How to find the Taylor Polynomials using Sage:\n",
    "\n",
    "First, define your function"
   ]
  },
  {
   "cell_type": "code",
   "execution_count": 18,
   "metadata": {},
   "outputs": [],
   "source": [
    "f(x) = 1/(1-x)"
   ]
  },
  {
   "cell_type": "markdown",
   "metadata": {},
   "source": [
    "### Step 1: Take lots of derivatives\n",
    "\n",
    "Then several derivatives of your function.  You can do it \"by hand\" like this"
   ]
  },
  {
   "cell_type": "code",
   "execution_count": 19,
   "metadata": {},
   "outputs": [
    {
     "data": {
      "text/html": [
       "<html><script type=\"math/tex; mode=display\">\\newcommand{\\Bold}[1]{\\mathbf{#1}}x \\ {\\mapsto}\\ \\frac{1}{{\\left(x - 1\\right)}^{2}}</script></html>"
      ],
      "text/plain": [
       "x |--> (x - 1)^(-2)"
      ]
     },
     "metadata": {},
     "output_type": "display_data"
    },
    {
     "data": {
      "text/html": [
       "<html><script type=\"math/tex; mode=display\">\\newcommand{\\Bold}[1]{\\mathbf{#1}}x \\ {\\mapsto}\\ -\\frac{2}{{\\left(x - 1\\right)}^{3}}</script></html>"
      ],
      "text/plain": [
       "x |--> -2/(x - 1)^3"
      ]
     },
     "metadata": {},
     "output_type": "display_data"
    }
   ],
   "source": [
    "f1 = f.derivative(x)\n",
    "show(f1) #Delete or comment out these \"show\" commands if you don't need to see them.\n",
    "f2 = f1.derivative(x)\n",
    "show(f2)"
   ]
  },
  {
   "cell_type": "markdown",
   "metadata": {},
   "source": [
    "Or you can use Python list comprehension to do a bunch of derivatives all at once.  The \"7\" below means that you will find the 0-th derivative (the original function) through the 6-th derivative."
   ]
  },
  {
   "cell_type": "code",
   "execution_count": 20,
   "metadata": {},
   "outputs": [
    {
     "data": {
      "text/html": [
       "<html><script type=\"math/tex; mode=display\">\\newcommand{\\Bold}[1]{\\mathbf{#1}}\\left[x \\ {\\mapsto}\\ -\\frac{1}{x - 1}, x \\ {\\mapsto}\\ \\frac{1}{{\\left(x - 1\\right)}^{2}}, x \\ {\\mapsto}\\ -\\frac{2}{{\\left(x - 1\\right)}^{3}}, x \\ {\\mapsto}\\ \\frac{6}{{\\left(x - 1\\right)}^{4}}, x \\ {\\mapsto}\\ -\\frac{24}{{\\left(x - 1\\right)}^{5}}, x \\ {\\mapsto}\\ \\frac{120}{{\\left(x - 1\\right)}^{6}}, x \\ {\\mapsto}\\ -\\frac{720}{{\\left(x - 1\\right)}^{7}}\\right]</script></html>"
      ],
      "text/plain": [
       "[x |--> -1/(x - 1),\n",
       " x |--> (x - 1)^(-2),\n",
       " x |--> -2/(x - 1)^3,\n",
       " x |--> 6/(x - 1)^4,\n",
       " x |--> -24/(x - 1)^5,\n",
       " x |--> 120/(x - 1)^6,\n",
       " x |--> -720/(x - 1)^7]"
      ]
     },
     "metadata": {},
     "output_type": "display_data"
    }
   ],
   "source": [
    "f_ders = [f.derivative(x,i) for i in range(7)]\n",
    "show(f_ders)"
   ]
  },
  {
   "cell_type": "markdown",
   "metadata": {},
   "source": [
    "### Step 2: Evaluate the derivatives at the center point $x=a$\n",
    "\n",
    "Then we need to plug in our point $a$, which will be the point that we center our Taylor Polynomials.  Again, we could do this by hand (like a crazy person):"
   ]
  },
  {
   "cell_type": "code",
   "execution_count": 21,
   "metadata": {},
   "outputs": [
    {
     "data": {
      "text/html": [
       "<html><script type=\"math/tex; mode=display\">\\newcommand{\\Bold}[1]{\\mathbf{#1}}1</script></html>"
      ],
      "text/plain": [
       "1"
      ]
     },
     "metadata": {},
     "output_type": "display_data"
    },
    {
     "data": {
      "text/html": [
       "<html><script type=\"math/tex; mode=display\">\\newcommand{\\Bold}[1]{\\mathbf{#1}}1</script></html>"
      ],
      "text/plain": [
       "1"
      ]
     },
     "metadata": {},
     "output_type": "display_data"
    },
    {
     "data": {
      "text/html": [
       "<html><script type=\"math/tex; mode=display\">\\newcommand{\\Bold}[1]{\\mathbf{#1}}2</script></html>"
      ],
      "text/plain": [
       "2"
      ]
     },
     "metadata": {},
     "output_type": "display_data"
    }
   ],
   "source": [
    "a = 0\n",
    "show(f(a))\n",
    "f1a = f1(a) #Make sure that you are running this cell after the cell where f1 is defined.\n",
    "show(f1a)\n",
    "f2a = f2(a)\n",
    "show(f2a)"
   ]
  },
  {
   "cell_type": "markdown",
   "metadata": {},
   "source": [
    "Or we could use Python list comprehension again"
   ]
  },
  {
   "cell_type": "code",
   "execution_count": 22,
   "metadata": {},
   "outputs": [
    {
     "data": {
      "text/html": [
       "<html><script type=\"math/tex; mode=display\">\\newcommand{\\Bold}[1]{\\mathbf{#1}}\\left[1, 1, 2, 6, 24, 120, 720\\right]</script></html>"
      ],
      "text/plain": [
       "[1, 1, 2, 6, 24, 120, 720]"
      ]
     },
     "metadata": {},
     "output_type": "display_data"
    }
   ],
   "source": [
    "a = 0\n",
    "f_ders_a = [g(a) for g in f_ders] #Here g is each function in f_ders, which is a list of functions\n",
    "show(f_ders_a)"
   ]
  },
  {
   "cell_type": "markdown",
   "metadata": {},
   "source": [
    "Now, you might be thinking to yourself, \"Dr. Johnson, couldn't we combine the first and second steps using Python list comprehension?\"  And I would reply, \"Yes! Great idea!  Work smarter, not harder.\""
   ]
  },
  {
   "cell_type": "code",
   "execution_count": 23,
   "metadata": {},
   "outputs": [
    {
     "data": {
      "text/html": [
       "<html><script type=\"math/tex; mode=display\">\\newcommand{\\Bold}[1]{\\mathbf{#1}}\\left[1, 1, 2, 6, 24, 120, 720\\right]</script></html>"
      ],
      "text/plain": [
       "[1, 1, 2, 6, 24, 120, 720]"
      ]
     },
     "metadata": {},
     "output_type": "display_data"
    }
   ],
   "source": [
    "a = 0\n",
    "f_ders_a = [f.derivative(x,i)(a) for i in range(7)]\n",
    "show(f_ders_a)"
   ]
  },
  {
   "cell_type": "markdown",
   "metadata": {},
   "source": [
    "### Step 3: Divide by factorials\n",
    "\n",
    "Next, we need to divide each evaluated derivative by a factorial.  This will give us the coefficient for each power of $x$ in the Taylor polynomial.  First we'll do it the slow way, but if you still prefer this way, then Dr. Johnson has concerns for your sanity. :-)"
   ]
  },
  {
   "cell_type": "code",
   "execution_count": 24,
   "metadata": {},
   "outputs": [
    {
     "data": {
      "text/html": [
       "<html><script type=\"math/tex; mode=display\">\\newcommand{\\Bold}[1]{\\mathbf{#1}}1</script></html>"
      ],
      "text/plain": [
       "1"
      ]
     },
     "metadata": {},
     "output_type": "display_data"
    },
    {
     "data": {
      "text/html": [
       "<html><script type=\"math/tex; mode=display\">\\newcommand{\\Bold}[1]{\\mathbf{#1}}1</script></html>"
      ],
      "text/plain": [
       "1"
      ]
     },
     "metadata": {},
     "output_type": "display_data"
    },
    {
     "data": {
      "text/html": [
       "<html><script type=\"math/tex; mode=display\">\\newcommand{\\Bold}[1]{\\mathbf{#1}}1</script></html>"
      ],
      "text/plain": [
       "1"
      ]
     },
     "metadata": {},
     "output_type": "display_data"
    }
   ],
   "source": [
    "c0 = f(a)/factorial(0)\n",
    "show(c0)\n",
    "c1 = f1a/factorial(1)\n",
    "show(c1)\n",
    "c2 = f2a/factorial(2)\n",
    "show(c2)"
   ]
  },
  {
   "cell_type": "markdown",
   "metadata": {},
   "source": [
    "Or we could use list comprehension again"
   ]
  },
  {
   "cell_type": "code",
   "execution_count": 25,
   "metadata": {},
   "outputs": [
    {
     "data": {
      "text/html": [
       "<html><script type=\"math/tex; mode=display\">\\newcommand{\\Bold}[1]{\\mathbf{#1}}\\left[1, 1, 1, 1, 1, 1, 1\\right]</script></html>"
      ],
      "text/plain": [
       "[1, 1, 1, 1, 1, 1, 1]"
      ]
     },
     "metadata": {},
     "output_type": "display_data"
    }
   ],
   "source": [
    "C = [f_ders_a[i]/factorial(i) for i in range(7)] #Remember, you might need to change the 7 for your examples\n",
    "show(C)"
   ]
  },
  {
   "cell_type": "markdown",
   "metadata": {},
   "source": [
    "Now, you might be thinking to yourself, \"Dr. Johnson, couldn't we combine the first, second, and third steps using Python list comprehension?\" And I would reply, \"Yes! Great idea! Work smarter, not harder.\""
   ]
  },
  {
   "cell_type": "code",
   "execution_count": 26,
   "metadata": {},
   "outputs": [
    {
     "data": {
      "text/html": [
       "<html><script type=\"math/tex; mode=display\">\\newcommand{\\Bold}[1]{\\mathbf{#1}}\\left[1, 1, 1, 1, 1, 1, 1\\right]</script></html>"
      ],
      "text/plain": [
       "[1, 1, 1, 1, 1, 1, 1]"
      ]
     },
     "metadata": {},
     "output_type": "display_data"
    }
   ],
   "source": [
    "C = [f.derivative(x,i)(a)/factorial(i) for i in range(7)]\n",
    "show(C)"
   ]
  },
  {
   "cell_type": "markdown",
   "metadata": {},
   "source": [
    "### Step 4: Multiply the coefficients by the powers of $x$\n",
    "\n",
    "Finally, we multiply each coefficient with it's respective power of $x$ to get our Taylor Polynomial.  We could do this the slow way:"
   ]
  },
  {
   "cell_type": "code",
   "execution_count": 27,
   "metadata": {},
   "outputs": [
    {
     "data": {
      "text/html": [
       "<html><script type=\"math/tex; mode=display\">\\newcommand{\\Bold}[1]{\\mathbf{#1}}x^{2} + x + 1</script></html>"
      ],
      "text/plain": [
       "x^2 + x + 1"
      ]
     },
     "metadata": {},
     "output_type": "display_data"
    }
   ],
   "source": [
    "P_2(x) = c0 + c1*x + c2*x^2\n",
    "show(P_2(x))"
   ]
  },
  {
   "cell_type": "markdown",
   "metadata": {},
   "source": [
    "Or we could use Python list comprehension again and the sum function"
   ]
  },
  {
   "cell_type": "code",
   "execution_count": 28,
   "metadata": {},
   "outputs": [
    {
     "data": {
      "text/html": [
       "<html><script type=\"math/tex; mode=display\">\\newcommand{\\Bold}[1]{\\mathbf{#1}}x^{6} + x^{5} + x^{4} + x^{3} + x^{2} + x + 1</script></html>"
      ],
      "text/plain": [
       "x^6 + x^5 + x^4 + x^3 + x^2 + x + 1"
      ]
     },
     "metadata": {},
     "output_type": "display_data"
    }
   ],
   "source": [
    "P_6(x) = sum([C[i]*x^i for i in range(7)]) #Again, you might need to change this 7 for your examples\n",
    "show(P_6(x))"
   ]
  },
  {
   "cell_type": "markdown",
   "metadata": {},
   "source": [
    "Now, you might be thinking to yourself, \"Dr. Johnson, couldn't we combine the first, second, third, and fourth steps using Python list comprehension and the sum function?\" And I would reply, \"Yes! Great idea! Work smarter, not harder.\""
   ]
  },
  {
   "cell_type": "code",
   "execution_count": 29,
   "metadata": {},
   "outputs": [
    {
     "data": {
      "text/html": [
       "<html><script type=\"math/tex; mode=display\">\\newcommand{\\Bold}[1]{\\mathbf{#1}}x^{6} + x^{5} + x^{4} + x^{3} + x^{2} + x + 1</script></html>"
      ],
      "text/plain": [
       "x^6 + x^5 + x^4 + x^3 + x^2 + x + 1"
      ]
     },
     "metadata": {},
     "output_type": "display_data"
    }
   ],
   "source": [
    "P_6(x) = sum([f.derivative(x,i)(a)/factorial(i)*x^i for i in range(7)])\n",
    "show(P_6(x))"
   ]
  },
  {
   "cell_type": "markdown",
   "metadata": {},
   "source": [
    "That \"7\" above could be defined as \"n,\" and you could define `n=7` in an earlier cell.  That would be even better."
   ]
  },
  {
   "cell_type": "markdown",
   "metadata": {},
   "source": [
    "### Step 5: Plot the function and its Taylor Polynomial\n",
    "\n",
    "At this point, you should still have your center `a` defined somewhere above.  Also define the radius `r` that you want to view around that point `a`.  You probably want `r` to be a little bigger than the radius of convergence, but not too much bigger."
   ]
  },
  {
   "cell_type": "code",
   "execution_count": 30,
   "metadata": {},
   "outputs": [
    {
     "data": {
      "image/png": "[encoded data removed]",
      "text/plain": [
       "Graphics object consisting of 5 graphics primitives"
      ]
     },
     "metadata": {},
     "output_type": "display_data"
    }
   ],
   "source": [
    "r = 2\n",
    "Plot1 = f.plot(x, a-r, a+r, detect_poles = True) #The plot of the original function\n",
    "Plot2 = P_2.plot(x, a-r, a+r, color = \"red\") #The plot of P_2(x)\n",
    "Plot3 = P_6.plot(x, a-r, a+r, color = \"green\") #The plot of P_6(x)\n",
    "Plot = Plot1 + Plot2 + Plot3 \n",
    "Plot.show()"
   ]
  },
  {
   "cell_type": "markdown",
   "metadata": {},
   "source": [
    "If your function has asymptotes like in my example, then you can tell Sage to use a ymin and ymax.  But what ymin and ymax should you use?  You could find the min and max of your Taylor polynomial on that region.  Then go a little further than that."
   ]
  },
  {
   "cell_type": "code",
   "execution_count": 31,
   "metadata": {},
   "outputs": [],
   "source": [
    "yma, x_at_yma = P_6.find_local_maximum(a-r,a+r)\n",
    "ymi, x_at_ymi = P_6.find_local_minimum(a-r, a+r)\n",
    "yma = max(2*yma, yma/2, yma+10)\n",
    "ymi = min(2*ymi, ymi/2, ymi-10)"
   ]
  },
  {
   "cell_type": "code",
   "execution_count": 32,
   "metadata": {},
   "outputs": [
    {
     "data": {
      "image/png": "[encoded data removed]",
      "text/plain": [
       "Graphics object consisting of 5 graphics primitives"
      ]
     },
     "metadata": {},
     "output_type": "display_data"
    }
   ],
   "source": [
    "Plot.show(ymin = ymi, ymax = yma)"
   ]
  },
  {
   "cell_type": "markdown",
   "metadata": {},
   "source": [
    "# Exercises\n",
    "\n",
    "1. Find the Taylor Series polynomial for $f(x)=x^4 e^{3x^2}$ about $a=1$.  Plot $P_3 (x)$, $P_7 (x)$ and the original function on the interval $[0,2]$.\n",
    "\n",
    "2. Using your answer from \\#1, find an approximation to $f(0)$ using $P_3$ and $P_7$.  Is this a good approximation? Explain why or why not.\n",
    "\n",
    "3. Find the 6th degree Taylor Series for $g(x)=e^x  \\arctan⁡(x)$  about $x=0$.  Plot $P_6 (x)$ and the original function on the interval $[-1.5,1.5]$.\n",
    "\n",
    "4. Using your answer from \\#3, find $g\\left(\\frac{3}{2}\\right)$.  Is this a good approximation? Explain why or why not.\n",
    "\n",
    "5. Use Taylor Series to find an approximation to $\\int_{-1}^1\\frac{\\sin⁡(x)}{x}\\ dx$.  Below are the steps you will need to perform:\n",
    "\n",
    "    1. Find the Taylor Series for $\\frac{sin⁡(x)}{x}$ centered at $x=\\frac{1}{2}$.\n",
    "    \n",
    "    2. Find the Taylor Series for $\\int\\frac{\\sin⁡(x)}{x}\\ dx$.\n",
    "    \n",
    "    3. Use \\#5B to evaluate the Taylor Series at $x=0$ and $x=1$ and subtract them.\n",
    "    \n",
    "    4. Determine the number of terms you will need to get within 0.001.  Use the Remainder Theorem from the textbook.\n",
    "    \n",
    "6. Find an approximation to $\\int_0^1e^{-x^2}\\ dx$.  You will need to determine the appropriate number of terms to be within 0.005 from the Remainder Theorem from the textbook.  Also, use $a=0$ as your center."
   ]
  },
  {
   "cell_type": "code",
   "execution_count": null,
   "metadata": {},
   "outputs": [],
   "source": []
  }
 ],
 "metadata": {
  "kernelspec": {
   "display_name": "SageMath 9.0",
   "language": "sage",
   "name": "sagemath"
  },
  "language_info": {
   "codemirror_mode": {
    "name": "ipython",
    "version": 3
   },
   "file_extension": ".py",
   "mimetype": "text/x-python",
   "name": "python",
   "nbconvert_exporter": "python",
   "pygments_lexer": "ipython3",
   "version": "3.7.3"
  }
 },
 "nbformat": 4,
 "nbformat_minor": 2
}
