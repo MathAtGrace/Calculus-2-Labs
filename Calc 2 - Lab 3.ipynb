{
 "cells": [
  {
   "cell_type": "code",
   "execution_count": 21,
   "metadata": {},
   "outputs": [
    {
     "data": {
      "text/plain": [
       "[1, 3, 5, 7, 9]"
      ]
     },
     "execution_count": 21,
     "metadata": {},
     "output_type": "execute_result"
    }
   ],
   "source": [
    "range(10)[1::2]"
   ]
  },
  {
   "cell_type": "code",
   "execution_count": 3,
   "metadata": {},
   "outputs": [
    {
     "name": "stdout",
     "output_type": "stream",
     "text": [
      "[0, 1/2, 1, 3/2, 2, 5/2, 3]\n",
      "[0, 1, sqrt(2), sqrt(3), 2, sqrt(5), sqrt(6)]\n",
      "4.19116617372088 1/2*sqrt(5) + 1/2*sqrt(3) + 1/2*sqrt(2) + 3/2\n",
      "5.41591104511247 1/2*sqrt(6) + 1/2*sqrt(5) + 1/2*sqrt(3) + 1/2*sqrt(2) + 3/2\n",
      "1/4*sqrt(6) + 1/2*sqrt(5) + 1/2*sqrt(3) + 1/2*sqrt(2) + 3/2 4.80353860941668\n",
      "1/6*sqrt(6) + 2/3*sqrt(5) + 2/3*sqrt(3) + 1/3*sqrt(2) + 4/3 4.85839866796734\n"
     ]
    }
   ],
   "source": [
    "def f(x): return sqrt(2*x)\n",
    "n = 6\n",
    "a = 0\n",
    "b = 3\n",
    "x_n = [a + (b-a)/n*i for i in range(n+1)]\n",
    "print x_n\n",
    "fx_n = [f(i) for i in x_n]\n",
    "print fx_n\n",
    "L = (b-a)/n * (sum(fx_n[:-1]))\n",
    "R = (b-a)/n * sum(fx_n[1:])\n",
    "print L.n(), L\n",
    "print R.n(), R\n",
    "T = (b-a)/(2*n)*( sum(fx_n) + sum(fx_n[1:-1]))\n",
    "print T, T.n()\n",
    "S = (b-a)/(3*n)*( sum(fx_n) + sum(fx_n[1:-1]) + 2*sum(fx_n[1::2]))\n",
    "print S, S.n()"
   ]
  },
  {
   "cell_type": "code",
   "execution_count": 23,
   "metadata": {},
   "outputs": [
    {
     "name": "stdout",
     "output_type": "stream",
     "text": [
      "[1, 3/2, 2, 5/2, 3]\n",
      "[0, log(3/2), log(2), log(5/2), log(3)]\n",
      "1/4*log(3) + 1/2*log(5/2) + 1/2*log(2) + 1/2*log(3/2) 1.28210458243816\n",
      "1/6*log(3) + 2/3*log(5/2) + 1/3*log(2) + 2/3*log(3/2) 1.29532166828621\n"
     ]
    }
   ],
   "source": [
    "def f(x): return log(x)\n",
    "n = 4\n",
    "a = 1\n",
    "b = 3\n",
    "x_n = [a + (b-a)/n*i for i in range(n+1)]\n",
    "print x_n\n",
    "fx_n = [f(i) for i in x_n]\n",
    "print fx_n\n",
    "T = (b-a)/(2*n)*( sum(fx_n) + sum(fx_n[1:-1]))\n",
    "print T, T.n()\n",
    "S = (b-a)/(3*n)*( sum(fx_n) + sum(fx_n[1:-1]) + 2*sum(fx_n[1::2]))\n",
    "print S, S.n()"
   ]
  },
  {
   "cell_type": "code",
   "execution_count": 26,
   "metadata": {},
   "outputs": [
    {
     "name": "stdout",
     "output_type": "stream",
     "text": [
      "1/100*log(3) + 1/50*log(149/50) + 1/50*log(74/25) + 1/50*log(147/50) + 1/50*log(73/25) + 1/50*log(29/10) + 1/50*log(72/25) + 1/50*log(143/50) + 1/50*log(71/25) + 1/50*log(141/50) + 1/50*log(14/5) + 1/50*log(139/50) + 1/50*log(69/25) + 1/50*log(137/50) + 1/50*log(68/25) + 1/50*log(27/10) + 1/50*log(67/25) + 1/50*log(133/50) + 1/50*log(66/25) + 1/50*log(131/50) + 1/50*log(13/5) + 1/50*log(129/50) + 1/50*log(64/25) + 1/50*log(127/50) + 1/50*log(63/25) + 1/50*log(5/2) + 1/50*log(62/25) + 1/50*log(123/50) + 1/50*log(61/25) + 1/50*log(121/50) + 1/50*log(12/5) + 1/50*log(119/50) + 1/50*log(59/25) + 1/50*log(117/50) + 1/50*log(58/25) + 1/50*log(23/10) + 1/50*log(57/25) + 1/50*log(113/50) + 1/50*log(56/25) + 1/50*log(111/50) + 1/50*log(11/5) + 1/50*log(109/50) + 1/50*log(54/25) + 1/50*log(107/50) + 1/50*log(53/25) + 1/50*log(21/10) + 1/50*log(52/25) + 1/50*log(103/50) + 1/50*log(51/25) + 1/50*log(101/50) + 1/50*log(2) + 1/50*log(99/50) + 1/50*log(49/25) + 1/50*log(97/50) + 1/50*log(48/25) + 1/50*log(19/10) + 1/50*log(47/25) + 1/50*log(93/50) + 1/50*log(46/25) + 1/50*log(91/50) + 1/50*log(9/5) + 1/50*log(89/50) + 1/50*log(44/25) + 1/50*log(87/50) + 1/50*log(43/25) + 1/50*log(17/10) + 1/50*log(42/25) + 1/50*log(83/50) + 1/50*log(41/25) + 1/50*log(81/50) + 1/50*log(8/5) + 1/50*log(79/50) + 1/50*log(39/25) + 1/50*log(77/50) + 1/50*log(38/25) + 1/50*log(3/2) + 1/50*log(37/25) + 1/50*log(73/50) + 1/50*log(36/25) + 1/50*log(71/50) + 1/50*log(7/5) + 1/50*log(69/50) + 1/50*log(34/25) + 1/50*log(67/50) + 1/50*log(33/25) + 1/50*log(13/10) + 1/50*log(32/25) + 1/50*log(63/50) + 1/50*log(31/25) + 1/50*log(61/50) + 1/50*log(6/5) + 1/50*log(59/50) + 1/50*log(29/25) + 1/50*log(57/50) + 1/50*log(28/25) + 1/50*log(11/10) + 1/50*log(27/25) + 1/50*log(53/50) + 1/50*log(26/25) + 1/50*log(51/50) 1.29581464421004\n",
      "1/150*log(3) + 2/75*log(149/50) + 1/75*log(74/25) + 2/75*log(147/50) + 1/75*log(73/25) + 2/75*log(29/10) + 1/75*log(72/25) + 2/75*log(143/50) + 1/75*log(71/25) + 2/75*log(141/50) + 1/75*log(14/5) + 2/75*log(139/50) + 1/75*log(69/25) + 2/75*log(137/50) + 1/75*log(68/25) + 2/75*log(27/10) + 1/75*log(67/25) + 2/75*log(133/50) + 1/75*log(66/25) + 2/75*log(131/50) + 1/75*log(13/5) + 2/75*log(129/50) + 1/75*log(64/25) + 2/75*log(127/50) + 1/75*log(63/25) + 2/75*log(5/2) + 1/75*log(62/25) + 2/75*log(123/50) + 1/75*log(61/25) + 2/75*log(121/50) + 1/75*log(12/5) + 2/75*log(119/50) + 1/75*log(59/25) + 2/75*log(117/50) + 1/75*log(58/25) + 2/75*log(23/10) + 1/75*log(57/25) + 2/75*log(113/50) + 1/75*log(56/25) + 2/75*log(111/50) + 1/75*log(11/5) + 2/75*log(109/50) + 1/75*log(54/25) + 2/75*log(107/50) + 1/75*log(53/25) + 2/75*log(21/10) + 1/75*log(52/25) + 2/75*log(103/50) + 1/75*log(51/25) + 2/75*log(101/50) + 1/75*log(2) + 2/75*log(99/50) + 1/75*log(49/25) + 2/75*log(97/50) + 1/75*log(48/25) + 2/75*log(19/10) + 1/75*log(47/25) + 2/75*log(93/50) + 1/75*log(46/25) + 2/75*log(91/50) + 1/75*log(9/5) + 2/75*log(89/50) + 1/75*log(44/25) + 2/75*log(87/50) + 1/75*log(43/25) + 2/75*log(17/10) + 1/75*log(42/25) + 2/75*log(83/50) + 1/75*log(41/25) + 2/75*log(81/50) + 1/75*log(8/5) + 2/75*log(79/50) + 1/75*log(39/25) + 2/75*log(77/50) + 1/75*log(38/25) + 2/75*log(3/2) + 1/75*log(37/25) + 2/75*log(73/50) + 1/75*log(36/25) + 2/75*log(71/50) + 1/75*log(7/5) + 2/75*log(69/50) + 1/75*log(34/25) + 2/75*log(67/50) + 1/75*log(33/25) + 2/75*log(13/10) + 1/75*log(32/25) + 2/75*log(63/50) + 1/75*log(31/25) + 2/75*log(61/50) + 1/75*log(6/5) + 2/75*log(59/50) + 1/75*log(29/25) + 2/75*log(57/50) + 1/75*log(28/25) + 2/75*log(11/10) + 1/75*log(27/25) + 2/75*log(53/50) + 1/75*log(26/25) + 2/75*log(51/50) 1.29583686429341\n"
     ]
    }
   ],
   "source": [
    "def f(x): return log(x)\n",
    "n = 100\n",
    "a = 1\n",
    "b = 3\n",
    "x_n = [a + (b-a)/n*i for i in range(n+1)]\n",
    "#print x_n\n",
    "fx_n = [f(i) for i in x_n]\n",
    "#print fx_n\n",
    "T = (b-a)/(2*n)*( sum(fx_n) + sum(fx_n[1:-1]))\n",
    "print T, T.n()\n",
    "S = (b-a)/(3*n)*( sum(fx_n) + sum(fx_n[1:-1]) + 2*sum(fx_n[1::2]))\n",
    "print S, S.n()"
   ]
  },
  {
   "cell_type": "code",
   "execution_count": 28,
   "metadata": {},
   "outputs": [
    {
     "data": {
      "text/html": [
       "<html><script type=\"math/tex; mode=display\">\\newcommand{\\Bold}[1]{\\mathbf{#1}}\\frac{1}{150} \\, \\log\\left(3\\right) + \\frac{2}{75} \\, \\log\\left(\\frac{149}{50}\\right) + \\frac{1}{75} \\, \\log\\left(\\frac{74}{25}\\right) + \\frac{2}{75} \\, \\log\\left(\\frac{147}{50}\\right) + \\frac{1}{75} \\, \\log\\left(\\frac{73}{25}\\right) + \\frac{2}{75} \\, \\log\\left(\\frac{29}{10}\\right) + \\frac{1}{75} \\, \\log\\left(\\frac{72}{25}\\right) + \\frac{2}{75} \\, \\log\\left(\\frac{143}{50}\\right) + \\frac{1}{75} \\, \\log\\left(\\frac{71}{25}\\right) + \\frac{2}{75} \\, \\log\\left(\\frac{141}{50}\\right) + \\frac{1}{75} \\, \\log\\left(\\frac{14}{5}\\right) + \\frac{2}{75} \\, \\log\\left(\\frac{139}{50}\\right) + \\frac{1}{75} \\, \\log\\left(\\frac{69}{25}\\right) + \\frac{2}{75} \\, \\log\\left(\\frac{137}{50}\\right) + \\frac{1}{75} \\, \\log\\left(\\frac{68}{25}\\right) + \\frac{2}{75} \\, \\log\\left(\\frac{27}{10}\\right) + \\frac{1}{75} \\, \\log\\left(\\frac{67}{25}\\right) + \\frac{2}{75} \\, \\log\\left(\\frac{133}{50}\\right) + \\frac{1}{75} \\, \\log\\left(\\frac{66}{25}\\right) + \\frac{2}{75} \\, \\log\\left(\\frac{131}{50}\\right) + \\frac{1}{75} \\, \\log\\left(\\frac{13}{5}\\right) + \\frac{2}{75} \\, \\log\\left(\\frac{129}{50}\\right) + \\frac{1}{75} \\, \\log\\left(\\frac{64}{25}\\right) + \\frac{2}{75} \\, \\log\\left(\\frac{127}{50}\\right) + \\frac{1}{75} \\, \\log\\left(\\frac{63}{25}\\right) + \\frac{2}{75} \\, \\log\\left(\\frac{5}{2}\\right) + \\frac{1}{75} \\, \\log\\left(\\frac{62}{25}\\right) + \\frac{2}{75} \\, \\log\\left(\\frac{123}{50}\\right) + \\frac{1}{75} \\, \\log\\left(\\frac{61}{25}\\right) + \\frac{2}{75} \\, \\log\\left(\\frac{121}{50}\\right) + \\frac{1}{75} \\, \\log\\left(\\frac{12}{5}\\right) + \\frac{2}{75} \\, \\log\\left(\\frac{119}{50}\\right) + \\frac{1}{75} \\, \\log\\left(\\frac{59}{25}\\right) + \\frac{2}{75} \\, \\log\\left(\\frac{117}{50}\\right) + \\frac{1}{75} \\, \\log\\left(\\frac{58}{25}\\right) + \\frac{2}{75} \\, \\log\\left(\\frac{23}{10}\\right) + \\frac{1}{75} \\, \\log\\left(\\frac{57}{25}\\right) + \\frac{2}{75} \\, \\log\\left(\\frac{113}{50}\\right) + \\frac{1}{75} \\, \\log\\left(\\frac{56}{25}\\right) + \\frac{2}{75} \\, \\log\\left(\\frac{111}{50}\\right) + \\frac{1}{75} \\, \\log\\left(\\frac{11}{5}\\right) + \\frac{2}{75} \\, \\log\\left(\\frac{109}{50}\\right) + \\frac{1}{75} \\, \\log\\left(\\frac{54}{25}\\right) + \\frac{2}{75} \\, \\log\\left(\\frac{107}{50}\\right) + \\frac{1}{75} \\, \\log\\left(\\frac{53}{25}\\right) + \\frac{2}{75} \\, \\log\\left(\\frac{21}{10}\\right) + \\frac{1}{75} \\, \\log\\left(\\frac{52}{25}\\right) + \\frac{2}{75} \\, \\log\\left(\\frac{103}{50}\\right) + \\frac{1}{75} \\, \\log\\left(\\frac{51}{25}\\right) + \\frac{2}{75} \\, \\log\\left(\\frac{101}{50}\\right) + \\frac{1}{75} \\, \\log\\left(2\\right) + \\frac{2}{75} \\, \\log\\left(\\frac{99}{50}\\right) + \\frac{1}{75} \\, \\log\\left(\\frac{49}{25}\\right) + \\frac{2}{75} \\, \\log\\left(\\frac{97}{50}\\right) + \\frac{1}{75} \\, \\log\\left(\\frac{48}{25}\\right) + \\frac{2}{75} \\, \\log\\left(\\frac{19}{10}\\right) + \\frac{1}{75} \\, \\log\\left(\\frac{47}{25}\\right) + \\frac{2}{75} \\, \\log\\left(\\frac{93}{50}\\right) + \\frac{1}{75} \\, \\log\\left(\\frac{46}{25}\\right) + \\frac{2}{75} \\, \\log\\left(\\frac{91}{50}\\right) + \\frac{1}{75} \\, \\log\\left(\\frac{9}{5}\\right) + \\frac{2}{75} \\, \\log\\left(\\frac{89}{50}\\right) + \\frac{1}{75} \\, \\log\\left(\\frac{44}{25}\\right) + \\frac{2}{75} \\, \\log\\left(\\frac{87}{50}\\right) + \\frac{1}{75} \\, \\log\\left(\\frac{43}{25}\\right) + \\frac{2}{75} \\, \\log\\left(\\frac{17}{10}\\right) + \\frac{1}{75} \\, \\log\\left(\\frac{42}{25}\\right) + \\frac{2}{75} \\, \\log\\left(\\frac{83}{50}\\right) + \\frac{1}{75} \\, \\log\\left(\\frac{41}{25}\\right) + \\frac{2}{75} \\, \\log\\left(\\frac{81}{50}\\right) + \\frac{1}{75} \\, \\log\\left(\\frac{8}{5}\\right) + \\frac{2}{75} \\, \\log\\left(\\frac{79}{50}\\right) + \\frac{1}{75} \\, \\log\\left(\\frac{39}{25}\\right) + \\frac{2}{75} \\, \\log\\left(\\frac{77}{50}\\right) + \\frac{1}{75} \\, \\log\\left(\\frac{38}{25}\\right) + \\frac{2}{75} \\, \\log\\left(\\frac{3}{2}\\right) + \\frac{1}{75} \\, \\log\\left(\\frac{37}{25}\\right) + \\frac{2}{75} \\, \\log\\left(\\frac{73}{50}\\right) + \\frac{1}{75} \\, \\log\\left(\\frac{36}{25}\\right) + \\frac{2}{75} \\, \\log\\left(\\frac{71}{50}\\right) + \\frac{1}{75} \\, \\log\\left(\\frac{7}{5}\\right) + \\frac{2}{75} \\, \\log\\left(\\frac{69}{50}\\right) + \\frac{1}{75} \\, \\log\\left(\\frac{34}{25}\\right) + \\frac{2}{75} \\, \\log\\left(\\frac{67}{50}\\right) + \\frac{1}{75} \\, \\log\\left(\\frac{33}{25}\\right) + \\frac{2}{75} \\, \\log\\left(\\frac{13}{10}\\right) + \\frac{1}{75} \\, \\log\\left(\\frac{32}{25}\\right) + \\frac{2}{75} \\, \\log\\left(\\frac{63}{50}\\right) + \\frac{1}{75} \\, \\log\\left(\\frac{31}{25}\\right) + \\frac{2}{75} \\, \\log\\left(\\frac{61}{50}\\right) + \\frac{1}{75} \\, \\log\\left(\\frac{6}{5}\\right) + \\frac{2}{75} \\, \\log\\left(\\frac{59}{50}\\right) + \\frac{1}{75} \\, \\log\\left(\\frac{29}{25}\\right) + \\frac{2}{75} \\, \\log\\left(\\frac{57}{50}\\right) + \\frac{1}{75} \\, \\log\\left(\\frac{28}{25}\\right) + \\frac{2}{75} \\, \\log\\left(\\frac{11}{10}\\right) + \\frac{1}{75} \\, \\log\\left(\\frac{27}{25}\\right) + \\frac{2}{75} \\, \\log\\left(\\frac{53}{50}\\right) + \\frac{1}{75} \\, \\log\\left(\\frac{26}{25}\\right) + \\frac{2}{75} \\, \\log\\left(\\frac{51}{50}\\right)</script></html>"
      ],
      "text/plain": [
       "1/150*log(3) + 2/75*log(149/50) + 1/75*log(74/25) + 2/75*log(147/50) + 1/75*log(73/25) + 2/75*log(29/10) + 1/75*log(72/25) + 2/75*log(143/50) + 1/75*log(71/25) + 2/75*log(141/50) + 1/75*log(14/5) + 2/75*log(139/50) + 1/75*log(69/25) + 2/75*log(137/50) + 1/75*log(68/25) + 2/75*log(27/10) + 1/75*log(67/25) + 2/75*log(133/50) + 1/75*log(66/25) + 2/75*log(131/50) + 1/75*log(13/5) + 2/75*log(129/50) + 1/75*log(64/25) + 2/75*log(127/50) + 1/75*log(63/25) + 2/75*log(5/2) + 1/75*log(62/25) + 2/75*log(123/50) + 1/75*log(61/25) + 2/75*log(121/50) + 1/75*log(12/5) + 2/75*log(119/50) + 1/75*log(59/25) + 2/75*log(117/50) + 1/75*log(58/25) + 2/75*log(23/10) + 1/75*log(57/25) + 2/75*log(113/50) + 1/75*log(56/25) + 2/75*log(111/50) + 1/75*log(11/5) + 2/75*log(109/50) + 1/75*log(54/25) + 2/75*log(107/50) + 1/75*log(53/25) + 2/75*log(21/10) + 1/75*log(52/25) + 2/75*log(103/50) + 1/75*log(51/25) + 2/75*log(101/50) + 1/75*log(2) + 2/75*log(99/50) + 1/75*log(49/25) + 2/75*log(97/50) + 1/75*log(48/25) + 2/75*log(19/10) + 1/75*log(47/25) + 2/75*log(93/50) + 1/75*log(46/25) + 2/75*log(91/50) + 1/75*log(9/5) + 2/75*log(89/50) + 1/75*log(44/25) + 2/75*log(87/50) + 1/75*log(43/25) + 2/75*log(17/10) + 1/75*log(42/25) + 2/75*log(83/50) + 1/75*log(41/25) + 2/75*log(81/50) + 1/75*log(8/5) + 2/75*log(79/50) + 1/75*log(39/25) + 2/75*log(77/50) + 1/75*log(38/25) + 2/75*log(3/2) + 1/75*log(37/25) + 2/75*log(73/50) + 1/75*log(36/25) + 2/75*log(71/50) + 1/75*log(7/5) + 2/75*log(69/50) + 1/75*log(34/25) + 2/75*log(67/50) + 1/75*log(33/25) + 2/75*log(13/10) + 1/75*log(32/25) + 2/75*log(63/50) + 1/75*log(31/25) + 2/75*log(61/50) + 1/75*log(6/5) + 2/75*log(59/50) + 1/75*log(29/25) + 2/75*log(57/50) + 1/75*log(28/25) + 2/75*log(11/10) + 1/75*log(27/25) + 2/75*log(53/50) + 1/75*log(26/25) + 2/75*log(51/50)"
      ]
     },
     "metadata": {},
     "output_type": "display_data"
    }
   ],
   "source": [
    "show(simplify(S))"
   ]
  },
  {
   "cell_type": "code",
   "execution_count": 1,
   "metadata": {},
   "outputs": [
    {
     "name": "stdout",
     "output_type": "stream",
     "text": [
      "[1, 7/4, 5/2, 13/4]\n",
      "[-1, -7/16, 5/4, 65/16]\n",
      "93/32 2.90625000000000\n"
     ]
    }
   ],
   "source": [
    "def f(x): return x^2 - 2*x\n",
    "n = 4\n",
    "a = 1\n",
    "b = 4\n",
    "x_n = [a + (b-a)/n*i for i in range(n)]\n",
    "print x_n\n",
    "fx_n = [f(i) for i in x_n]\n",
    "print fx_n\n",
    "R = (b-a)/(n)*( sum(fx_n) )\n",
    "print R, R.n()"
   ]
  },
  {
   "cell_type": "code",
   "execution_count": 1,
   "metadata": {},
   "outputs": [
    {
     "name": "stdout",
     "output_type": "stream",
     "text": [
      "[1, 3/2, 2, 5/2, 3, 7/2, 4]\n",
      "[-1, -3/4, 0, 5/4, 3, 21/4, 8]\n",
      "49/8 6.12500000000000\n",
      "6 6.00000000000000\n"
     ]
    }
   ],
   "source": [
    "def f(x): return x^2 - 2*x\n",
    "n = 6\n",
    "a = 1\n",
    "b = 4\n",
    "x_n = [a + (b-a)/n*i for i in range(n+1)]\n",
    "print x_n\n",
    "fx_n = [f(i) for i in x_n]\n",
    "print fx_n\n",
    "T = (b-a)/(2*n)*( sum(fx_n) + sum(fx_n[1:-1]))\n",
    "print T, T.n()\n",
    "S = (b-a)/(3*n)*( sum(fx_n) + sum(fx_n[1:-1]) + 2*sum(fx_n[1::2]))\n",
    "print S, S.n()"
   ]
  },
  {
   "cell_type": "code",
   "execution_count": null,
   "metadata": {},
   "outputs": [],
   "source": []
  }
 ],
 "metadata": {
  "kernelspec": {
   "display_name": "SageMath 9.0",
   "language": "sage",
   "name": "sagemath"
  },
  "language_info": {
   "codemirror_mode": {
    "name": "ipython",
    "version": 3
   },
   "file_extension": ".py",
   "mimetype": "text/x-python",
   "name": "python",
   "nbconvert_exporter": "python",
   "pygments_lexer": "ipython3",
   "version": "3.7.3"
  }
 },
 "nbformat": 4,
 "nbformat_minor": 2
}
