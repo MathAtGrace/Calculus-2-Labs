{
 "cells": [
  {
   "cell_type": "markdown",
   "metadata": {},
   "source": [
    "# Lab 13 Taylor Polynomials"
   ]
  },
  {
   "cell_type": "markdown",
   "metadata": {},
   "source": [
    "How to find the Taylor Polynomials using Sage:\n",
    "\n",
    "First, define your function"
   ]
  },
  {
   "cell_type": "code",
   "execution_count": 51,
   "metadata": {},
   "outputs": [],
   "source": [
    "f(x) = 1/(1-x)"
   ]
  },
  {
   "cell_type": "markdown",
   "metadata": {},
   "source": [
    "### Step 1: Take lots of derivatives\n",
    "\n",
    "Then several derivatives of your function.  You can do it \"by hand\" like this"
   ]
  },
  {
   "cell_type": "code",
   "execution_count": 52,
   "metadata": {},
   "outputs": [
    {
     "data": {
      "text/html": [
       "<html><script type=\"math/tex; mode=display\">\\newcommand{\\Bold}[1]{\\mathbf{#1}}x \\ {\\mapsto}\\ \\frac{1}{{\\left(x - 1\\right)}^{2}}</script></html>"
      ],
      "text/plain": [
       "x |--> (x - 1)^(-2)"
      ]
     },
     "metadata": {},
     "output_type": "display_data"
    },
    {
     "data": {
      "text/html": [
       "<html><script type=\"math/tex; mode=display\">\\newcommand{\\Bold}[1]{\\mathbf{#1}}x \\ {\\mapsto}\\ -\\frac{2}{{\\left(x - 1\\right)}^{3}}</script></html>"
      ],
      "text/plain": [
       "x |--> -2/(x - 1)^3"
      ]
     },
     "metadata": {},
     "output_type": "display_data"
    }
   ],
   "source": [
    "f1 = f.derivative(x)\n",
    "show(f1) #Delete or comment out these \"show\" commands if you don't need to see them.\n",
    "f2 = f1.derivative(x)\n",
    "show(f2)"
   ]
  },
  {
   "cell_type": "markdown",
   "metadata": {},
   "source": [
    "Or you can use Python list comprehension to do a bunch of derivatives all at once.  The \"7\" below means that you will find the 0-th derivative (the original function) through the 6-th derivative."
   ]
  },
  {
   "cell_type": "code",
   "execution_count": 53,
   "metadata": {},
   "outputs": [
    {
     "data": {
      "text/html": [
       "<html><script type=\"math/tex; mode=display\">\\newcommand{\\Bold}[1]{\\mathbf{#1}}\\left[x \\ {\\mapsto}\\ -\\frac{1}{x - 1}, x \\ {\\mapsto}\\ \\frac{1}{{\\left(x - 1\\right)}^{2}}, x \\ {\\mapsto}\\ -\\frac{2}{{\\left(x - 1\\right)}^{3}}, x \\ {\\mapsto}\\ \\frac{6}{{\\left(x - 1\\right)}^{4}}, x \\ {\\mapsto}\\ -\\frac{24}{{\\left(x - 1\\right)}^{5}}, x \\ {\\mapsto}\\ \\frac{120}{{\\left(x - 1\\right)}^{6}}, x \\ {\\mapsto}\\ -\\frac{720}{{\\left(x - 1\\right)}^{7}}\\right]</script></html>"
      ],
      "text/plain": [
       "[x |--> -1/(x - 1),\n",
       " x |--> (x - 1)^(-2),\n",
       " x |--> -2/(x - 1)^3,\n",
       " x |--> 6/(x - 1)^4,\n",
       " x |--> -24/(x - 1)^5,\n",
       " x |--> 120/(x - 1)^6,\n",
       " x |--> -720/(x - 1)^7]"
      ]
     },
     "metadata": {},
     "output_type": "display_data"
    }
   ],
   "source": [
    "f_ders = [f.derivative(x,i) for i in range(7)]\n",
    "show(f_ders)"
   ]
  },
  {
   "cell_type": "markdown",
   "metadata": {},
   "source": [
    "### Step 2: Evaluate the derivatives at the center point $x=a$\n",
    "\n",
    "Then we need to plug in our point $a$, which will be the point that we center our Taylor Polynomials.  Again, we could do this by hand (like a crazy person):"
   ]
  },
  {
   "cell_type": "code",
   "execution_count": 54,
   "metadata": {},
   "outputs": [
    {
     "data": {
      "text/html": [
       "<html><script type=\"math/tex; mode=display\">\\newcommand{\\Bold}[1]{\\mathbf{#1}}1</script></html>"
      ],
      "text/plain": [
       "1"
      ]
     },
     "metadata": {},
     "output_type": "display_data"
    },
    {
     "data": {
      "text/html": [
       "<html><script type=\"math/tex; mode=display\">\\newcommand{\\Bold}[1]{\\mathbf{#1}}1</script></html>"
      ],
      "text/plain": [
       "1"
      ]
     },
     "metadata": {},
     "output_type": "display_data"
    },
    {
     "data": {
      "text/html": [
       "<html><script type=\"math/tex; mode=display\">\\newcommand{\\Bold}[1]{\\mathbf{#1}}2</script></html>"
      ],
      "text/plain": [
       "2"
      ]
     },
     "metadata": {},
     "output_type": "display_data"
    }
   ],
   "source": [
    "a = 0\n",
    "show(f(a))\n",
    "f1a = f1(a) #Make sure that you are running this cell after the cell where f1 is defined.\n",
    "show(f1a)\n",
    "f2a = f2(a)\n",
    "show(f2a)"
   ]
  },
  {
   "cell_type": "markdown",
   "metadata": {},
   "source": [
    "Or we could use Python list comprehension again"
   ]
  },
  {
   "cell_type": "code",
   "execution_count": 55,
   "metadata": {},
   "outputs": [
    {
     "data": {
      "text/html": [
       "<html><script type=\"math/tex; mode=display\">\\newcommand{\\Bold}[1]{\\mathbf{#1}}\\left[1, 1, 2, 6, 24, 120, 720\\right]</script></html>"
      ],
      "text/plain": [
       "[1, 1, 2, 6, 24, 120, 720]"
      ]
     },
     "metadata": {},
     "output_type": "display_data"
    }
   ],
   "source": [
    "a = 0\n",
    "f_ders_a = [g(a) for g in f_ders] #Here g is each function in f_ders, which is a list of functions\n",
    "show(f_ders_a)"
   ]
  },
  {
   "cell_type": "markdown",
   "metadata": {},
   "source": [
    "Now, you might be thinking to yourself, \"Dr. Johnson, couldn't we combine the first and second steps using Python list comprehension?\"  And I would reply, \"Yes! Great idea!  Work smarter, not harder.\""
   ]
  },
  {
   "cell_type": "code",
   "execution_count": 56,
   "metadata": {},
   "outputs": [
    {
     "data": {
      "text/html": [
       "<html><script type=\"math/tex; mode=display\">\\newcommand{\\Bold}[1]{\\mathbf{#1}}\\left[1, 1, 2, 6, 24, 120, 720\\right]</script></html>"
      ],
      "text/plain": [
       "[1, 1, 2, 6, 24, 120, 720]"
      ]
     },
     "metadata": {},
     "output_type": "display_data"
    }
   ],
   "source": [
    "a = 0\n",
    "f_ders_a = [f.derivative(x,i)(a) for i in range(7)]\n",
    "show(f_ders_a)"
   ]
  },
  {
   "cell_type": "markdown",
   "metadata": {},
   "source": [
    "### Step 3: Divide by factorials\n",
    "\n",
    "Next, we need to divide each evaluated derivative by a factorial.  This will give us the coefficient for each power of $x$ in the Taylor polynomial.  First we'll do it the slow way, but if you still prefer this way, then Dr. Johnson has concerns for your sanity. :-)"
   ]
  },
  {
   "cell_type": "code",
   "execution_count": 57,
   "metadata": {},
   "outputs": [
    {
     "data": {
      "text/html": [
       "<html><script type=\"math/tex; mode=display\">\\newcommand{\\Bold}[1]{\\mathbf{#1}}1</script></html>"
      ],
      "text/plain": [
       "1"
      ]
     },
     "metadata": {},
     "output_type": "display_data"
    },
    {
     "data": {
      "text/html": [
       "<html><script type=\"math/tex; mode=display\">\\newcommand{\\Bold}[1]{\\mathbf{#1}}1</script></html>"
      ],
      "text/plain": [
       "1"
      ]
     },
     "metadata": {},
     "output_type": "display_data"
    },
    {
     "data": {
      "text/html": [
       "<html><script type=\"math/tex; mode=display\">\\newcommand{\\Bold}[1]{\\mathbf{#1}}1</script></html>"
      ],
      "text/plain": [
       "1"
      ]
     },
     "metadata": {},
     "output_type": "display_data"
    }
   ],
   "source": [
    "c0 = f(a)/factorial(0)\n",
    "show(c0)\n",
    "c1 = f1a/factorial(1)\n",
    "show(c1)\n",
    "c2 = f2a/factorial(2)\n",
    "show(c2)"
   ]
  },
  {
   "cell_type": "markdown",
   "metadata": {},
   "source": [
    "Or we could use list comprehension again"
   ]
  },
  {
   "cell_type": "code",
   "execution_count": 58,
   "metadata": {},
   "outputs": [
    {
     "data": {
      "text/html": [
       "<html><script type=\"math/tex; mode=display\">\\newcommand{\\Bold}[1]{\\mathbf{#1}}\\left[1, 1, 1, 1, 1, 1, 1\\right]</script></html>"
      ],
      "text/plain": [
       "[1, 1, 1, 1, 1, 1, 1]"
      ]
     },
     "metadata": {},
     "output_type": "display_data"
    }
   ],
   "source": [
    "C = [f_ders_a[i]/factorial(i) for i in range(7)] #Remember, you might need to change the 7 for your examples\n",
    "show(C)"
   ]
  },
  {
   "cell_type": "markdown",
   "metadata": {},
   "source": [
    "Now, you might be thinking to yourself, \"Dr. Johnson, couldn't we combine the first, second, and third steps using Python list comprehension?\" And I would reply, \"Yes! Great idea! Work smarter, not harder.\""
   ]
  },
  {
   "cell_type": "code",
   "execution_count": 59,
   "metadata": {},
   "outputs": [
    {
     "data": {
      "text/html": [
       "<html><script type=\"math/tex; mode=display\">\\newcommand{\\Bold}[1]{\\mathbf{#1}}\\left[1, 1, 1, 1, 1, 1, 1\\right]</script></html>"
      ],
      "text/plain": [
       "[1, 1, 1, 1, 1, 1, 1]"
      ]
     },
     "metadata": {},
     "output_type": "display_data"
    }
   ],
   "source": [
    "C = [f.derivative(x,i)(a)/factorial(i) for i in range(7)]\n",
    "show(C)"
   ]
  },
  {
   "cell_type": "markdown",
   "metadata": {},
   "source": [
    "### Step 4: Multiply the coefficients by the powers of $x$\n",
    "\n",
    "Finally, we multiply each coefficient with it's respective power of $x$ to get our Taylor Polynomial.  We could do this the slow way:"
   ]
  },
  {
   "cell_type": "code",
   "execution_count": 60,
   "metadata": {},
   "outputs": [
    {
     "data": {
      "text/html": [
       "<html><script type=\"math/tex; mode=display\">\\newcommand{\\Bold}[1]{\\mathbf{#1}}x^{2} + x + 1</script></html>"
      ],
      "text/plain": [
       "x^2 + x + 1"
      ]
     },
     "metadata": {},
     "output_type": "display_data"
    }
   ],
   "source": [
    "P_2(x) = c0 + c1*(x-a) + c2*(x-a)^2\n",
    "show(P_2(x))"
   ]
  },
  {
   "cell_type": "markdown",
   "metadata": {},
   "source": [
    "Or we could use Python list comprehension again and the sum function"
   ]
  },
  {
   "cell_type": "code",
   "execution_count": 61,
   "metadata": {},
   "outputs": [
    {
     "data": {
      "text/html": [
       "<html><script type=\"math/tex; mode=display\">\\newcommand{\\Bold}[1]{\\mathbf{#1}}x^{6} + x^{5} + x^{4} + x^{3} + x^{2} + x + 1</script></html>"
      ],
      "text/plain": [
       "x^6 + x^5 + x^4 + x^3 + x^2 + x + 1"
      ]
     },
     "metadata": {},
     "output_type": "display_data"
    }
   ],
   "source": [
    "P_6(x) = sum([C[i]*(x-a)^i for i in range(7)]) #Again, you might need to change this 7 for your examples\n",
    "show(P_6(x))"
   ]
  },
  {
   "cell_type": "markdown",
   "metadata": {},
   "source": [
    "Now, you might be thinking to yourself, \"Dr. Johnson, couldn't we combine the first, second, third, and fourth steps using Python list comprehension and the sum function?\" And I would reply, \"Yes! Great idea! Work smarter, not harder.\""
   ]
  },
  {
   "cell_type": "code",
   "execution_count": 62,
   "metadata": {},
   "outputs": [
    {
     "data": {
      "text/html": [
       "<html><script type=\"math/tex; mode=display\">\\newcommand{\\Bold}[1]{\\mathbf{#1}}x^{6} + x^{5} + x^{4} + x^{3} + x^{2} + x + 1</script></html>"
      ],
      "text/plain": [
       "x^6 + x^5 + x^4 + x^3 + x^2 + x + 1"
      ]
     },
     "metadata": {},
     "output_type": "display_data"
    }
   ],
   "source": [
    "P_6(x) = sum([f.derivative(x,i)(a)/factorial(i)*(x-a)^i for i in range(7)])\n",
    "show(P_6(x))"
   ]
  },
  {
   "cell_type": "markdown",
   "metadata": {},
   "source": [
    "That \"7\" above could be defined as \"n,\" and you could define `n=7` in an earlier cell.  That would be even better."
   ]
  },
  {
   "cell_type": "markdown",
   "metadata": {},
   "source": [
    "### Step 5: Plot the function and its Taylor Polynomial\n",
    "\n",
    "At this point, you should still have your center `a` defined somewhere above.  Also define the radius `r` that you want to view around that point `a`.  You probably want `r` to be a little bigger than the radius of convergence, but not too much bigger."
   ]
  },
  {
   "cell_type": "code",
   "execution_count": 63,
   "metadata": {},
   "outputs": [
    {
     "data": {
      "image/png": "[encoded data removed]",
      "text/plain": [
       "Graphics object consisting of 5 graphics primitives"
      ]
     },
     "metadata": {},
     "output_type": "display_data"
    }
   ],
   "source": [
    "r = 2\n",
    "Plot1 = f.plot(x, a-r, a+r, detect_poles = True)\n",
    "Plot2 = P_2.plot(x, a-r, a+r, color = \"red\")\n",
    "Plot3 = P_6.plot(x, a-r, a+r, color = \"green\")\n",
    "Plot = Plot1 + Plot2 + Plot3\n",
    "Plot.show()"
   ]
  },
  {
   "cell_type": "markdown",
   "metadata": {},
   "source": [
    "If your function has asymptotes like in my example, then you can tell Sage to use a ymin and ymax.  But what ymin and ymax should you use?  You could find the min and max of your Taylor polynomial on that region.  Then go a little further than that."
   ]
  },
  {
   "cell_type": "code",
   "execution_count": 64,
   "metadata": {},
   "outputs": [],
   "source": [
    "yma, x_at_yma = P_6.find_local_maximum(a-r,a+r)\n",
    "ymi, x_at_ymi = P_6.find_local_minimum(a-r, a+r)\n",
    "yma = max(2*yma, yma/2, yma+10)\n",
    "ymi = min(2*ymi, ymi/2, ymi-10)"
   ]
  },
  {
   "cell_type": "code",
   "execution_count": 65,
   "metadata": {},
   "outputs": [
    {
     "data": {
      "image/png": "[encoded data removed]",
      "text/plain": [
       "Graphics object consisting of 5 graphics primitives"
      ]
     },
     "metadata": {},
     "output_type": "display_data"
    }
   ],
   "source": [
    "Plot.show(ymin = ymi, ymax = yma)"
   ]
  },
  {
   "cell_type": "markdown",
   "metadata": {},
   "source": [
    "# Exercises\n",
    "\n",
    "1. Find the Taylor Series polynomial for $f(x)=x^4 e^{3x^2}$ about $a=1$.  Plot $P_3 (x)$, $P_7 (x)$ and the original function on the interval $[0,2]$.\n",
    "\n",
    "2. Using your answer from \\#1, find an approximation to $f(0)$ using $P_3$ and $P_7$.  Is this a good approximation? Explain why or why not.\n",
    "\n",
    "3. Find the 6th degree Taylor Series for $g(x)=e^x  \\arctan⁡(x)$  about $x=0$.  Plot $P_6 (x)$ and the original function on the interval $[-1.5,1.5]$.\n",
    "\n",
    "4. Using your answer from \\#3, find $g\\left(\\frac{3}{2}\\right)$.  Is this a good approximation? Explain why or why not.\n",
    "\n",
    "5. Use Taylor Series to find an approximation to $\\int_{-1}^1\\frac{\\sin⁡(x)}{x}\\ dx$.  Below are the steps you will need to perform:\n",
    "\n",
    "    1. Find the Taylor Series for $\\frac{sin⁡(x)}{x}$ centered at $x=0$.\n",
    "    \n",
    "    2. Find the Taylor Series for $\\int\\frac{\\sin⁡(x)}{x}\\ dx$.\n",
    "    \n",
    "    3. Use \\#5B to evaluate the Taylor Series at $x=0$ and $x=1$ and subtract them.\n",
    "    \n",
    "    4. Determine the number of terms you will need to get within 0.001.  Use the Remainder Theorem from the textbook.\n",
    "    \n",
    "6. Find an approximation to $\\int_0^1e^{-x^2}\\ dx$.  You will need to determine the appropriate number of terms to be within 0.005 from the Remainder Theorem from the textbook.  Also, use $a=0$ as your center."
   ]
  },
  {
   "cell_type": "markdown",
   "metadata": {},
   "source": [
    "# Problem 1"
   ]
  },
  {
   "cell_type": "code",
   "execution_count": 66,
   "metadata": {},
   "outputs": [
    {
     "data": {
      "text/html": [
       "<html><script type=\"math/tex; mode=display\">\\newcommand{\\Bold}[1]{\\mathbf{#1}}\\frac{118683}{35} \\, {\\left(x - 1\\right)}^{7} e^{3} + \\frac{4047}{2} \\, {\\left(x - 1\\right)}^{6} e^{3} + \\frac{5319}{5} \\, {\\left(x - 1\\right)}^{5} e^{3} + \\frac{959}{2} \\, {\\left(x - 1\\right)}^{4} e^{3} + 178 \\, {\\left(x - 1\\right)}^{3} e^{3} + 51 \\, {\\left(x - 1\\right)}^{2} e^{3} + 10 \\, {\\left(x - 1\\right)} e^{3} + e^{3}</script></html>"
      ],
      "text/plain": [
       "118683/35*(x - 1)^7*e^3 + 4047/2*(x - 1)^6*e^3 + 5319/5*(x - 1)^5*e^3 + 959/2*(x - 1)^4*e^3 + 178*(x - 1)^3*e^3 + 51*(x - 1)^2*e^3 + 10*(x - 1)*e^3 + e^3"
      ]
     },
     "metadata": {},
     "output_type": "display_data"
    }
   ],
   "source": [
    "f(x) = x^4*e^(3*x^2)\n",
    "a=1\n",
    "P_3(x) = sum([f.derivative(x,i)(a)/factorial(i)*(x-a)^i for i in range(4)])\n",
    "P_7(x) = sum([f.derivative(x,i)(a)/factorial(i)*(x-a)^i for i in range(8)])\n",
    "show(P_7(x))"
   ]
  },
  {
   "cell_type": "code",
   "execution_count": 67,
   "metadata": {},
   "outputs": [
    {
     "data": {
      "image/png": "[encoded data removed]",
      "text/plain": [
       "Graphics object consisting of 3 graphics primitives"
      ]
     },
     "metadata": {},
     "output_type": "display_data"
    }
   ],
   "source": [
    "r = 1\n",
    "Plot1 = f.plot(x, a-r, a+r, detect_poles = True)\n",
    "Plot2 = P_3.plot(x, a-r, a+r, color = \"red\")\n",
    "Plot3 = P_7.plot(x, a-r, a+r, color = \"green\")\n",
    "Plot = Plot1 + Plot2 + Plot3\n",
    "\n",
    "yma, x_at_yma = P_7.find_local_maximum(a-r,a+r)\n",
    "ymi, x_at_ymi = P_7.find_local_minimum(a-r, a+r)\n",
    "yma = max(2*yma, yma/2, yma+10)\n",
    "ymi = min(2*ymi, ymi/2, ymi-10)\n",
    "Plot.show(ymin = ymi, ymax = yma)"
   ]
  },
  {
   "cell_type": "markdown",
   "metadata": {},
   "source": [
    "# Problem 2"
   ]
  },
  {
   "cell_type": "code",
   "execution_count": 80,
   "metadata": {
    "scrolled": true
   },
   "outputs": [
    {
     "data": {
      "text/html": [
       "<html><script type=\"math/tex; mode=display\">\\newcommand{\\Bold}[1]{\\mathbf{#1}}0.000000000000000</script></html>"
      ],
      "text/plain": [
       "0.000000000000000"
      ]
     },
     "metadata": {},
     "output_type": "display_data"
    },
    {
     "data": {
      "text/html": [
       "<html><script type=\"math/tex; mode=display\">\\newcommand{\\Bold}[1]{\\mathbf{#1}}-2731.63302155352</script></html>"
      ],
      "text/plain": [
       "-2731.63302155352"
      ]
     },
     "metadata": {},
     "output_type": "display_data"
    },
    {
     "data": {
      "text/html": [
       "<html><script type=\"math/tex; mode=display\">\\newcommand{\\Bold}[1]{\\mathbf{#1}}-41933.4362432642</script></html>"
      ],
      "text/plain": [
       "-41933.4362432642"
      ]
     },
     "metadata": {},
     "output_type": "display_data"
    },
    {
     "data": {
      "text/html": [
       "<html><script type=\"math/tex; mode=display\">\\newcommand{\\Bold}[1]{\\mathbf{#1}}-41933.4362432642</script></html>"
      ],
      "text/plain": [
       "-41933.4362432642"
      ]
     },
     "metadata": {},
     "output_type": "display_data"
    },
    {
     "data": {
      "text/html": [
       "<html><script type=\"math/tex; mode=display\">\\newcommand{\\Bold}[1]{\\mathbf{#1}}0.627327736783016</script></html>"
      ],
      "text/plain": [
       "0.627327736783016"
      ]
     },
     "metadata": {},
     "output_type": "display_data"
    }
   ],
   "source": [
    "show(f(0).n())\n",
    "show(P_3(0).n())\n",
    "show(P_7(0).n())\n",
    "show(f.taylor(x,1,7)(0).n())\n",
    "show(f.taylor(x,1,40)(0).n())"
   ]
  },
  {
   "cell_type": "markdown",
   "metadata": {},
   "source": [
    "Neither of the Taylor polynomials are good approximations of the function at 3/2, but $P_7(x)$ is at least in the right ballwpark.\n",
    "\n",
    "# Problem 3"
   ]
  },
  {
   "cell_type": "code",
   "execution_count": null,
   "metadata": {},
   "outputs": [],
   "source": [
    "\n"
   ]
  },
  {
   "cell_type": "markdown",
   "metadata": {},
   "source": [
    "# Problem 5"
   ]
  },
  {
   "cell_type": "code",
   "execution_count": 111,
   "metadata": {},
   "outputs": [
    {
     "data": {
      "text/html": [
       "<html><script type=\"math/tex; mode=display\">\\newcommand{\\Bold}[1]{\\mathbf{#1}}0.944580200416507</script></html>"
      ],
      "text/plain": [
       "0.944580200416507"
      ]
     },
     "metadata": {},
     "output_type": "display_data"
    },
    {
     "data": {
      "text/html": [
       "<html><script type=\"math/tex; mode=display\">\\newcommand{\\Bold}[1]{\\mathbf{#1}}0.945126216542576</script></html>"
      ],
      "text/plain": [
       "0.945126216542576"
      ]
     },
     "metadata": {},
     "output_type": "display_data"
    },
    {
     "data": {
      "text/html": [
       "<html><script type=\"math/tex; mode=display\">\\newcommand{\\Bold}[1]{\\mathbf{#1}}0.946106870605718</script></html>"
      ],
      "text/plain": [
       "0.946106870605718"
      ]
     },
     "metadata": {},
     "output_type": "display_data"
    },
    {
     "data": {
      "text/html": [
       "<html><script type=\"math/tex; mode=display\">\\newcommand{\\Bold}[1]{\\mathbf{#1}}0.946096339824180</script></html>"
      ],
      "text/plain": [
       "0.946096339824180"
      ]
     },
     "metadata": {},
     "output_type": "display_data"
    },
    {
     "data": {
      "text/html": [
       "<html><script type=\"math/tex; mode=display\">\\newcommand{\\Bold}[1]{\\mathbf{#1}}0.946082835330249</script></html>"
      ],
      "text/plain": [
       "0.946082835330249"
      ]
     },
     "metadata": {},
     "output_type": "display_data"
    },
    {
     "data": {
      "text/html": [
       "<html><script type=\"math/tex; mode=display\">\\newcommand{\\Bold}[1]{\\mathbf{#1}}0.946082953884700</script></html>"
      ],
      "text/plain": [
       "0.946082953884700"
      ]
     },
     "metadata": {},
     "output_type": "display_data"
    },
    {
     "data": {
      "text/html": [
       "<html><script type=\"math/tex; mode=display\">\\newcommand{\\Bold}[1]{\\mathbf{#1}}0.946083071638798</script></html>"
      ],
      "text/plain": [
       "0.946083071638798"
      ]
     },
     "metadata": {},
     "output_type": "display_data"
    },
    {
     "data": {
      "text/html": [
       "<html><script type=\"math/tex; mode=display\">\\newcommand{\\Bold}[1]{\\mathbf{#1}}0.946083072570121</script></html>"
      ],
      "text/plain": [
       "0.946083072570121"
      ]
     },
     "metadata": {},
     "output_type": "display_data"
    },
    {
     "data": {
      "text/html": [
       "<html><script type=\"math/tex; mode=display\">\\newcommand{\\Bold}[1]{\\mathbf{#1}}0.946083039042508</script></html>"
      ],
      "text/plain": [
       "0.946083039042508"
      ]
     },
     "metadata": {},
     "output_type": "display_data"
    },
    {
     "data": {
      "text/html": [
       "<html><script type=\"math/tex; mode=display\">\\newcommand{\\Bold}[1]{\\mathbf{#1}}0.946083068844830</script></html>"
      ],
      "text/plain": [
       "0.946083068844830"
      ]
     },
     "metadata": {},
     "output_type": "display_data"
    },
    {
     "data": {
      "text/html": [
       "<html><script type=\"math/tex; mode=display\">\\newcommand{\\Bold}[1]{\\mathbf{#1}}0.946079254147565</script></html>"
      ],
      "text/plain": [
       "0.946079254147565"
      ]
     },
     "metadata": {},
     "output_type": "display_data"
    },
    {
     "data": {
      "text/html": [
       "<html><script type=\"math/tex; mode=display\">\\newcommand{\\Bold}[1]{\\mathbf{#1}}0.946075439450299</script></html>"
      ],
      "text/plain": [
       "0.946075439450299"
      ]
     },
     "metadata": {},
     "output_type": "display_data"
    },
    {
     "data": {
      "text/html": [
       "<html><script type=\"math/tex; mode=display\">\\newcommand{\\Bold}[1]{\\mathbf{#1}}0.946044921872174</script></html>"
      ],
      "text/plain": [
       "0.946044921872174"
      ]
     },
     "metadata": {},
     "output_type": "display_data"
    },
    {
     "data": {
      "text/html": [
       "<html><script type=\"math/tex; mode=display\">\\newcommand{\\Bold}[1]{\\mathbf{#1}}0.947265624997174</script></html>"
      ],
      "text/plain": [
       "0.947265624997174"
      ]
     },
     "metadata": {},
     "output_type": "display_data"
    },
    {
     "data": {
      "text/html": [
       "<html><script type=\"math/tex; mode=display\">\\newcommand{\\Bold}[1]{\\mathbf{#1}}0.953124999997174</script></html>"
      ],
      "text/plain": [
       "0.953124999997174"
      ]
     },
     "metadata": {},
     "output_type": "display_data"
    },
    {
     "data": {
      "text/html": [
       "<html><script type=\"math/tex; mode=display\">\\newcommand{\\Bold}[1]{\\mathbf{#1}}0.874999999997174</script></html>"
      ],
      "text/plain": [
       "0.874999999997174"
      ]
     },
     "metadata": {},
     "output_type": "display_data"
    },
    {
     "data": {
      "text/html": [
       "<html><script type=\"math/tex; mode=display\">\\newcommand{\\Bold}[1]{\\mathbf{#1}}0.999999999997174</script></html>"
      ],
      "text/plain": [
       "0.999999999997174"
      ]
     },
     "metadata": {},
     "output_type": "display_data"
    },
    {
     "data": {
      "text/html": [
       "<html><script type=\"math/tex; mode=display\">\\newcommand{\\Bold}[1]{\\mathbf{#1}}-2.82589229794183 \\times 10^{-12}</script></html>"
      ],
      "text/plain": [
       "-2.82589229794183e-12"
      ]
     },
     "metadata": {},
     "output_type": "display_data"
    },
    {
     "data": {
      "text/html": [
       "<html><script type=\"math/tex; mode=display\">\\newcommand{\\Bold}[1]{\\mathbf{#1}}-64.0000000000028</script></html>"
      ],
      "text/plain": [
       "-64.0000000000028"
      ]
     },
     "metadata": {},
     "output_type": "display_data"
    },
    {
     "data": {
      "text/html": [
       "<html><script type=\"math/tex; mode=display\">\\newcommand{\\Bold}[1]{\\mathbf{#1}}-2.82590617572964 \\times 10^{-12}</script></html>"
      ],
      "text/plain": [
       "-2.82590617572964e-12"
      ]
     },
     "metadata": {},
     "output_type": "display_data"
    },
    {
     "data": {
      "text/html": [
       "<html><script type=\"math/tex; mode=display\">\\newcommand{\\Bold}[1]{\\mathbf{#1}}-4096.00000000000</script></html>"
      ],
      "text/plain": [
       "-4096.00000000000"
      ]
     },
     "metadata": {},
     "output_type": "display_data"
    },
    {
     "data": {
      "text/html": [
       "<html><script type=\"math/tex; mode=display\">\\newcommand{\\Bold}[1]{\\mathbf{#1}}65536.0000000000</script></html>"
      ],
      "text/plain": [
       "65536.0000000000"
      ]
     },
     "metadata": {},
     "output_type": "display_data"
    },
    {
     "data": {
      "text/html": [
       "<html><script type=\"math/tex; mode=display\">\\newcommand{\\Bold}[1]{\\mathbf{#1}}-2.82590617572964 \\times 10^{-12}</script></html>"
      ],
      "text/plain": [
       "-2.82590617572964e-12"
      ]
     },
     "metadata": {},
     "output_type": "display_data"
    }
   ],
   "source": [
    "f(x) = sin(x)/x\n",
    "a=1/10\n",
    "\n",
    "for n in range(2, 25):\n",
    "    T = sum(f.derivative(x,i)(a)/factorial(i)*(x-a)^i for i in range(n+1))\n",
    "    #show(T5)\n",
    "    Tint = T.integrate(x)\n",
    "    show(Tint(1).n() - Tint(0).n())"
   ]
  },
  {
   "cell_type": "code",
   "execution_count": 114,
   "metadata": {},
   "outputs": [
    {
     "data": {
      "text/html": [
       "<html><script type=\"math/tex; mode=display\">\\newcommand{\\Bold}[1]{\\mathbf{#1}}0.944580200416507</script></html>"
      ],
      "text/plain": [
       "0.944580200416507"
      ]
     },
     "metadata": {},
     "output_type": "display_data"
    },
    {
     "data": {
      "text/html": [
       "<html><script type=\"math/tex; mode=display\">\\newcommand{\\Bold}[1]{\\mathbf{#1}}0.000546016126069304</script></html>"
      ],
      "text/plain": [
       "0.000546016126069304"
      ]
     },
     "metadata": {},
     "output_type": "display_data"
    },
    {
     "data": {
      "text/html": [
       "<html><script type=\"math/tex; mode=display\">\\newcommand{\\Bold}[1]{\\mathbf{#1}}0.000980654063141628</script></html>"
      ],
      "text/plain": [
       "0.000980654063141628"
      ]
     },
     "metadata": {},
     "output_type": "display_data"
    },
    {
     "data": {
      "text/html": [
       "<html><script type=\"math/tex; mode=display\">\\newcommand{\\Bold}[1]{\\mathbf{#1}}-0.0000105307815374545</script></html>"
      ],
      "text/plain": [
       "-0.0000105307815374545"
      ]
     },
     "metadata": {},
     "output_type": "display_data"
    },
    {
     "data": {
      "text/html": [
       "<html><script type=\"math/tex; mode=display\">\\newcommand{\\Bold}[1]{\\mathbf{#1}}-0.0000135044939310047</script></html>"
      ],
      "text/plain": [
       "-0.0000135044939310047"
      ]
     },
     "metadata": {},
     "output_type": "display_data"
    },
    {
     "data": {
      "text/html": [
       "<html><script type=\"math/tex; mode=display\">\\newcommand{\\Bold}[1]{\\mathbf{#1}}1.18554450589947 \\times 10^{-7}</script></html>"
      ],
      "text/plain": [
       "1.18554450589947e-7"
      ]
     },
     "metadata": {},
     "output_type": "display_data"
    },
    {
     "data": {
      "text/html": [
       "<html><script type=\"math/tex; mode=display\">\\newcommand{\\Bold}[1]{\\mathbf{#1}}1.17754098361011 \\times 10^{-7}</script></html>"
      ],
      "text/plain": [
       "1.17754098361011e-7"
      ]
     },
     "metadata": {},
     "output_type": "display_data"
    },
    {
     "data": {
      "text/html": [
       "<html><script type=\"math/tex; mode=display\">\\newcommand{\\Bold}[1]{\\mathbf{#1}}9.31322574615479 \\times 10^{-10}</script></html>"
      ],
      "text/plain": [
       "9.31322574615479e-10"
      ]
     },
     "metadata": {},
     "output_type": "display_data"
    },
    {
     "data": {
      "text/html": [
       "<html><script type=\"math/tex; mode=display\">\\newcommand{\\Bold}[1]{\\mathbf{#1}}-3.35276127971795 \\times 10^{-8}</script></html>"
      ],
      "text/plain": [
       "-3.35276127971795e-8"
      ]
     },
     "metadata": {},
     "output_type": "display_data"
    },
    {
     "data": {
      "text/html": [
       "<html><script type=\"math/tex; mode=display\">\\newcommand{\\Bold}[1]{\\mathbf{#1}}2.98023224987176 \\times 10^{-8}</script></html>"
      ],
      "text/plain": [
       "2.98023224987176e-8"
      ]
     },
     "metadata": {},
     "output_type": "display_data"
    },
    {
     "data": {
      "text/html": [
       "<html><script type=\"math/tex; mode=display\">\\newcommand{\\Bold}[1]{\\mathbf{#1}}-3.81469726573602 \\times 10^{-6}</script></html>"
      ],
      "text/plain": [
       "-3.81469726573602e-6"
      ]
     },
     "metadata": {},
     "output_type": "display_data"
    },
    {
     "data": {
      "text/html": [
       "<html><script type=\"math/tex; mode=display\">\\newcommand{\\Bold}[1]{\\mathbf{#1}}-3.81469726551398 \\times 10^{-6}</script></html>"
      ],
      "text/plain": [
       "-3.81469726551398e-6"
      ]
     },
     "metadata": {},
     "output_type": "display_data"
    },
    {
     "data": {
      "text/html": [
       "<html><script type=\"math/tex; mode=display\">\\newcommand{\\Bold}[1]{\\mathbf{#1}}-0.0000305175781250000</script></html>"
      ],
      "text/plain": [
       "-0.0000305175781250000"
      ]
     },
     "metadata": {},
     "output_type": "display_data"
    },
    {
     "data": {
      "text/html": [
       "<html><script type=\"math/tex; mode=display\">\\newcommand{\\Bold}[1]{\\mathbf{#1}}0.00122070312499989</script></html>"
      ],
      "text/plain": [
       "0.00122070312499989"
      ]
     },
     "metadata": {},
     "output_type": "display_data"
    },
    {
     "data": {
      "text/html": [
       "<html><script type=\"math/tex; mode=display\">\\newcommand{\\Bold}[1]{\\mathbf{#1}}0.00585937500000000</script></html>"
      ],
      "text/plain": [
       "0.00585937500000000"
      ]
     },
     "metadata": {},
     "output_type": "display_data"
    },
    {
     "data": {
      "text/html": [
       "<html><script type=\"math/tex; mode=display\">\\newcommand{\\Bold}[1]{\\mathbf{#1}}-0.0781249999999999</script></html>"
      ],
      "text/plain": [
       "-0.0781249999999999"
      ]
     },
     "metadata": {},
     "output_type": "display_data"
    },
    {
     "data": {
      "text/html": [
       "<html><script type=\"math/tex; mode=display\">\\newcommand{\\Bold}[1]{\\mathbf{#1}}0.125000000000000</script></html>"
      ],
      "text/plain": [
       "0.125000000000000"
      ]
     },
     "metadata": {},
     "output_type": "display_data"
    },
    {
     "data": {
      "text/html": [
       "<html><script type=\"math/tex; mode=display\">\\newcommand{\\Bold}[1]{\\mathbf{#1}}-1.00000000000000</script></html>"
      ],
      "text/plain": [
       "-1.00000000000000"
      ]
     },
     "metadata": {},
     "output_type": "display_data"
    },
    {
     "data": {
      "text/html": [
       "<html><script type=\"math/tex; mode=display\">\\newcommand{\\Bold}[1]{\\mathbf{#1}}-64.0000000000000</script></html>"
      ],
      "text/plain": [
       "-64.0000000000000"
      ]
     },
     "metadata": {},
     "output_type": "display_data"
    },
    {
     "data": {
      "text/html": [
       "<html><script type=\"math/tex; mode=display\">\\newcommand{\\Bold}[1]{\\mathbf{#1}}64.0000000000000</script></html>"
      ],
      "text/plain": [
       "64.0000000000000"
      ]
     },
     "metadata": {},
     "output_type": "display_data"
    },
    {
     "data": {
      "text/html": [
       "<html><script type=\"math/tex; mode=display\">\\newcommand{\\Bold}[1]{\\mathbf{#1}}-4096.00000000000</script></html>"
      ],
      "text/plain": [
       "-4096.00000000000"
      ]
     },
     "metadata": {},
     "output_type": "display_data"
    },
    {
     "data": {
      "text/html": [
       "<html><script type=\"math/tex; mode=display\">\\newcommand{\\Bold}[1]{\\mathbf{#1}}69632.0000000000</script></html>"
      ],
      "text/plain": [
       "69632.0000000000"
      ]
     },
     "metadata": {},
     "output_type": "display_data"
    },
    {
     "data": {
      "text/html": [
       "<html><script type=\"math/tex; mode=display\">\\newcommand{\\Bold}[1]{\\mathbf{#1}}-65536.0000000000</script></html>"
      ],
      "text/plain": [
       "-65536.0000000000"
      ]
     },
     "metadata": {},
     "output_type": "display_data"
    }
   ],
   "source": [
    "f(x) = sin(x)/x\n",
    "a=1/10\n",
    "\n",
    "b = 0\n",
    "for n in range(2, 25):\n",
    "    T = f.taylor(x,a,n)\n",
    "    #show(T5)\n",
    "    Tint = T.integrate(x)\n",
    "    show(Tint(1).n() - Tint(0).n() - b)\n",
    "    b = Tint(1).n() - Tint(0).n()"
   ]
  },
  {
   "cell_type": "code",
   "execution_count": null,
   "metadata": {},
   "outputs": [],
   "source": []
  }
 ],
 "metadata": {
  "kernelspec": {
   "display_name": "SageMath 9.0",
   "language": "sage",
   "name": "sagemath"
  },
  "language_info": {
   "codemirror_mode": {
    "name": "ipython",
    "version": 3
   },
   "file_extension": ".py",
   "mimetype": "text/x-python",
   "name": "python",
   "nbconvert_exporter": "python",
   "pygments_lexer": "ipython3",
   "version": "3.7.3"
  }
 },
 "nbformat": 4,
 "nbformat_minor": 2
}
