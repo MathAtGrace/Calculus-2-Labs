{
 "cells": [
  {
   "cell_type": "markdown",
   "metadata": {},
   "source": [
    "# Numerical Integration"
   ]
  },
  {
   "cell_type": "markdown",
   "metadata": {},
   "source": [
    "For all of the examples below, let's define a specific function $f(x)$, which is continuous on an interval $[a,b]$, which is split into $n$ equal subintervals"
   ]
  },
  {
   "cell_type": "code",
   "execution_count": 1,
   "metadata": {},
   "outputs": [],
   "source": [
    "f(x) = e^(-x^2)\n",
    "a = 0\n",
    "b = 1\n",
    "n = 5\n",
    "Dx = (b-a)/n #The width of each rectangle"
   ]
  },
  {
   "cell_type": "markdown",
   "metadata": {},
   "source": [
    "We can use the extra fancy numerical methods in Sage to check our answers:"
   ]
  },
  {
   "cell_type": "code",
   "execution_count": 2,
   "metadata": {},
   "outputs": [
    {
     "name": "stdout",
     "output_type": "stream",
     "text": [
      "0.746824132812427\n"
     ]
    }
   ],
   "source": [
    "I = f.integral(x, a, b).n()\n",
    "print(I)"
   ]
  },
  {
   "cell_type": "markdown",
   "metadata": {},
   "source": [
    "## Midpoint Rule\n",
    "\n",
    "With a function $f(x)$ continuous on an interval $[a,b]$ and a partition of $[a,b]$ into $n$ subintervals of length $\\Delta x$, with $m_i$ the midpoint of each interval where $i = 1...n$, set\n",
    "$$ M_n = \\sum_{i=1}^n f(m_i) \\Delta x $$\n",
    "Then $\\lim_{n \\to \\infty} M_n = \\int_a^b f(x) dx$\n",
    "\n",
    "To implement the midpoint rule, define the midpoints $m$, then sum all of the f(m[i]) multiplied by $\\Delta x$"
   ]
  },
  {
   "cell_type": "code",
   "execution_count": 3,
   "metadata": {},
   "outputs": [
    {
     "name": "stdout",
     "output_type": "stream",
     "text": [
      "0.748053252499832\n"
     ]
    }
   ],
   "source": [
    "m = [a + Dx/2 + Dx*i for i in range(n)]\n",
    "M_n = sum([f(m[i])*Dx for i in range(n)])\n",
    "print(M_n.n())"
   ]
  },
  {
   "cell_type": "markdown",
   "metadata": {},
   "source": [
    "The upper bound for the error is\n",
    "$$\\operatorname{Error}(M_n) = \\frac{M(b-a)^3}{24n^2}$$"
   ]
  },
  {
   "cell_type": "markdown",
   "metadata": {},
   "source": [
    "where $M$ is the maximum value of $|f''(x)|$ on the interval $[a,b]$.  Our actual error is this example is"
   ]
  },
  {
   "cell_type": "code",
   "execution_count": 4,
   "metadata": {},
   "outputs": [
    {
     "data": {
      "text/plain": [
       "0.00122911968740480"
      ]
     },
     "execution_count": 4,
     "metadata": {},
     "output_type": "execute_result"
    }
   ],
   "source": [
    "abs(M_n - I).n()"
   ]
  },
  {
   "cell_type": "markdown",
   "metadata": {},
   "source": [
    "### Trapezoid Rule\n",
    "\n",
    "With a function $f(x)$ continuous on an interval $[a,b]$ and a partition of $[a,b]$ into $n$ subintervals of length $\\Delta x$, with $x_i$ the endpoints of each interval where $i = 0...n$, set\n",
    "$$ T_n = \\sum_{i=0}^{n-1} \\frac{f(x_i) + f(x_{i+1})}{2} \\Delta x $$\n",
    "Then $\\lim_{n \\to \\infty} T_n = \\int_a^b f(x) dx$\n",
    "\n",
    "To implement the Trapezoid Rule, notice that if $L$ and $R$ are the approximations using left and right-endpoint rectangles, respectively, then $T_n = \\frac{1}{2}(L + R)$."
   ]
  },
  {
   "cell_type": "code",
   "execution_count": 5,
   "metadata": {},
   "outputs": [
    {
     "name": "stdout",
     "output_type": "stream",
     "text": [
      "0.744368339763667\n"
     ]
    }
   ],
   "source": [
    "xl = [a + Dx*i for i in range(n)]\n",
    "xr = [a + Dx*i for i in range(1,n+1)]\n",
    "L = sum([f(xl[i])*Dx for i in range(n)])\n",
    "R = sum([f(xr[i])*Dx for i in range(n)])\n",
    "T_n = (L+R)/2\n",
    "print(T_n.n())"
   ]
  },
  {
   "cell_type": "markdown",
   "metadata": {},
   "source": [
    "The upper bound for the error is\n",
    "$$\\operatorname{Error}(T_n) = \\frac{M(b-a)^3}{12n^2}$$\n",
    "where $M$ is the maximum value of $|f''(x)|$ on $[a,b]$.  Our actual error is"
   ]
  },
  {
   "cell_type": "code",
   "execution_count": 6,
   "metadata": {},
   "outputs": [
    {
     "data": {
      "text/plain": [
       "0.00245579304875997"
      ]
     },
     "execution_count": 6,
     "metadata": {},
     "output_type": "execute_result"
    }
   ],
   "source": [
    "abs(T_n-I).n()"
   ]
  },
  {
   "cell_type": "markdown",
   "metadata": {},
   "source": [
    "### Simpson's Rule\n",
    "\n",
    "With a function $f(x)$ continuous on an interval $[a,b]$ and a partition of $[a,b]$ into $n$ subintervals, where $n$ is even, of length $\\Delta x$, with $x_i$ the endpoints of each interval where $i = 0...n$, set\n",
    "$$ S_n = \\frac{\\Delta x}{3}(f(x_0) + 4f(x_1) + 2f(x_2) + 4f(x_3) + ... + 2f(x_{n-2}) + 4f(x_{n-1}) + f(x_{n})) $$\n",
    "Then $\\lim_{n \\to \\infty} T_n = \\int_a^b f(x) dx$\n",
    "\n",
    "Another way to compute Simpson's Rule is to compute the sum of $f(x_i)$ for all $i$, then add to this the sum of $f(x_i)$ for all the middle $i$'s (aka excluding $i=0$ and $i=n$), and finally add to that twice the sume of the $f(x_i)$ where $i$ is odd.  Mathematically, this can be written\n",
    "$$ S_n =  \\frac{\\Delta x}{3}\\left(\\sum_{i=0}^n f(x_i) + \\sum_{i=1}^{n-1} f(x_i) + 2\\sum_{i=0}^{n/2-1}f(x_{2i+1})\\right)$$\n",
    "To implement Simpson's Rule, define the $x_i$ for each of the three sums above:"
   ]
  },
  {
   "cell_type": "code",
   "execution_count": 7,
   "metadata": {},
   "outputs": [],
   "source": [
    "xe = [a + Dx * i for i in range(n+1)] #This is all endpoints\n",
    "xi = [a + Dx * i for i in range(1, n)] #This is the interior endpoints\n",
    "xo = [a + Dx * i for i in range(1,n,2)] #This is the odd endpoints"
   ]
  },
  {
   "cell_type": "markdown",
   "metadata": {},
   "source": [
    "Then add all of the $f(x_i)$ for all of these $x_i$, and mupliply by $\\frac{\\Delta x}{3}$"
   ]
  },
  {
   "cell_type": "code",
   "execution_count": 8,
   "metadata": {},
   "outputs": [
    {
     "name": "stdout",
     "output_type": "stream",
     "text": [
      "0.717374328538892\n"
     ]
    }
   ],
   "source": [
    "F = [f(x_i).n() for x_i in xe] + [f(x_i).n() for x_i in xi] + [2*f(x_i).n() for x_i in xo]\n",
    "S_n = sum([Dx/3*fx for fx in F])\n",
    "print(S_n)"
   ]
  },
  {
   "cell_type": "markdown",
   "metadata": {},
   "source": [
    "The upper bound for the error is\n",
    "$$\\operatorname{Error}(S_n) = \\frac{M(b-a)^5}{180n^4}$$\n",
    "where $M$ is the maximum value of $|f''''(x)|$ on $[a,b]$.  Our actual error is"
   ]
  },
  {
   "cell_type": "code",
   "execution_count": 9,
   "metadata": {},
   "outputs": [
    {
     "data": {
      "text/plain": [
       "0.0294498042735352"
      ]
     },
     "execution_count": 9,
     "metadata": {},
     "output_type": "execute_result"
    }
   ],
   "source": [
    "abs(I - S_n).n()"
   ]
  }
 ],
 "metadata": {
  "kernelspec": {
   "display_name": "SageMath 9.0",
   "language": "sage",
   "name": "sagemath"
  },
  "language_info": {
   "codemirror_mode": {
    "name": "ipython",
    "version": 3
   },
   "file_extension": ".py",
   "mimetype": "text/x-python",
   "name": "python",
   "nbconvert_exporter": "python",
   "pygments_lexer": "ipython3",
   "version": "3.7.3"
  }
 },
 "nbformat": 4,
 "nbformat_minor": 2
}
